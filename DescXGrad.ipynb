{
 "cells": [
  {
   "cell_type": "code",
   "execution_count": 16,
   "metadata": {},
   "outputs": [],
   "source": [
    "import numpy as np\n",
    "import matplotlib.pyplot as plt\n",
    "from PIL import Image\n",
    "import os"
   ]
  },
  {
   "cell_type": "code",
   "execution_count": 17,
   "metadata": {},
   "outputs": [],
   "source": [
    "def abrirImagenesEscaladas( carpeta, escala=32 ):\n",
    "    # abre todas las imagenes de la carpeta, y las escala de tal forma que midan (escala x escala)px\n",
    "    # devuelve las imagenes aplanadas -> vectores de tamano escala^2 con valores entre 0 y 1\n",
    "    imagenes = []\n",
    "\n",
    "    for dirpath, dirnames, filenames in os.walk(carpeta):\n",
    "        for file in filenames:\n",
    "            if file.endswith('DS_Store'):\n",
    "                continue\n",
    "            img = Image.open( os.path.join(carpeta, file) )\n",
    "            img = img.resize((escala, escala))\n",
    "            img.convert('1')\n",
    "            img = np.asarray(img)\n",
    "            if len(img.shape)==3:\n",
    "                img = img[:,:,0].reshape((escala**2 )) / 255\n",
    "            else:\n",
    "                img = img.reshape((escala**2 )) / 255\n",
    "            \n",
    "            imagenes.append( img )\n",
    "\n",
    "    return imagenes"
   ]
  },
  {
   "cell_type": "code",
   "execution_count": 18,
   "metadata": {},
   "outputs": [],
   "source": [
    "# Data\n",
    "if(False):\n",
    "    img_train_sin_neumonia = abrirImagenesEscaladas('./chest_xray/train/NORMAL/')\n",
    "    img_train_neumonia = abrirImagenesEscaladas('./chest_xray/train/PNEUMONIA/') # NO FUNCIONA :(\n",
    "    img_test_sin_neumonia = abrirImagenesEscaladas('./chest_xray/test/NORMAL/')\n",
    "    img_test_neumonia = abrirImagenesEscaladas('./chest_xray/test/PNEUMONIA/')\n",
    "\n",
    "    data = (img_train_sin_neumonia, img_train_neumonia, img_test_sin_neumonia, img_test_neumonia)\n"
   ]
  },
  {
   "cell_type": "code",
   "execution_count": 19,
   "metadata": {},
   "outputs": [],
   "source": [
    "def balancear_datos(imagenes_entrenamiento):\n",
    "\n",
    "    img_train_sin_neumonia = imagenes_entrenamiento[0]\n",
    "    img_train_neumonia =imagenes_entrenamiento[1]\n",
    "    img_test_sin_neumonia =imagenes_entrenamiento[2]\n",
    "    img_test_neumonia = imagenes_entrenamiento[3]\n",
    "\n",
    "    # MAX NUMBER OF IMAGES\n",
    "    n_train = min(len(img_train_sin_neumonia), len(img_train_neumonia))\n",
    "    n_test = min(len(img_test_sin_neumonia), len(img_test_neumonia))\n",
    "\n",
    "    # BALANCE\n",
    "    img_train_sin_neumonia = img_train_sin_neumonia[:n_train]\n",
    "    img_train_neumonia = img_train_neumonia[:n_train]\n",
    "    img_test_sin_neumonia = img_test_sin_neumonia[:n_test]\n",
    "    img_test_neumonia = img_test_neumonia[:n_test]\n",
    "\n",
    "    \n",
    "    return (img_train_sin_neumonia, img_train_neumonia, img_test_sin_neumonia, img_test_neumonia)"
   ]
  },
  {
   "cell_type": "code",
   "execution_count": 20,
   "metadata": {},
   "outputs": [],
   "source": [
    "data = balancear_datos(data)"
   ]
  },
  {
   "cell_type": "markdown",
   "metadata": {},
   "source": [
    "# EJERCISIO 1"
   ]
  },
  {
   "cell_type": "code",
   "execution_count": 21,
   "metadata": {},
   "outputs": [],
   "source": [
    "def L(i,w,b):\n",
    "    \"\"\"_summary_\n",
    "\n",
    "    Args:\n",
    "        i (Vector): imagen reshaped a un vector de tamano 32^2\n",
    "        w (Vector): Pesos de la red\n",
    "        b (Float): Bias de la red\n",
    "\n",
    "    Returns:\n",
    "        probabolidad: 0 < p < 1: Probabilidad de que la imagen sea un 1 (Tiene neumonia)\n",
    "    \"\"\"\n",
    "    tan = np.tanh(np.dot(w,i)+b)\n",
    "    return (tan + 1)/2"
   ]
  },
  {
   "attachments": {},
   "cell_type": "markdown",
   "metadata": {},
   "source": [
    "(1−t0^2)⋅((1+t0)/2−d)⋅i\n",
    "t0=tanh(b+W⊤⋅i)"
   ]
  },
  {
   "cell_type": "code",
   "execution_count": 22,
   "metadata": {},
   "outputs": [],
   "source": [
    "# Derivada de L con respecto a W\n",
    "def L_w(i,w,b,d):\n",
    "    \"\"\"_summary_\n",
    "\n",
    "    Args:\n",
    "        i (Vector): imagen reshaped a un vector de tamano 32^2\n",
    "        w (Vector): Pesos de la red\n",
    "        b (Float): Bias de la red\n",
    "\n",
    "    Returns:\n",
    "        Vector: Gradiente de la probabilidad con respecto a los pesos\n",
    "    \"\"\"\n",
    "    # t0=tanh(b+W⊤⋅i)\n",
    "    #return: (1−t0^2)⋅((1+t0)/2−d)⋅i\n",
    "    \n",
    "    t0 = np.tanh(np.dot(w,i)+b)\n",
    "    return (1-t0**2)*(((1+t0)/2)-d) * i"
   ]
  },
  {
   "attachments": {},
   "cell_type": "markdown",
   "metadata": {},
   "source": []
  },
  {
   "cell_type": "code",
   "execution_count": 23,
   "metadata": {},
   "outputs": [],
   "source": [
    "# Derivada de L con respecto a b\n",
    "def L_b(i,w,b,d):\n",
    "    \"\"\"_summary_\n",
    "\n",
    "    Args:\n",
    "        i (Vector): imagen reshaped a un vector de tamano 32^2\n",
    "        w (Vector): Pesos de la red\n",
    "        b (Float): Bias de la red\n",
    "\n",
    "    Returns:\n",
    "        Float: Gradiente de la probabilidad con respecto al bias\n",
    "    \"\"\"\n",
    "    #t0=tanh(b+W⊤⋅i)\n",
    "    #(1−t0^2)⋅((1+t0)/2−d)   \n",
    "    t0 = np.tanh(np.dot(w,i)+b)\n",
    "    return (1-t0**2)*(((1+t0)/2)-d)"
   ]
  },
  {
   "cell_type": "markdown",
   "metadata": {},
   "source": [
    "# EJERCISIO 2"
   ]
  },
  {
   "cell_type": "code",
   "execution_count": 24,
   "metadata": {},
   "outputs": [],
   "source": [
    "def desenso_gradiente(i, w, b, d, alpha=0.1):\n",
    "    \"\"\"_summary_\n",
    "\n",
    "    Args:\n",
    "        imagenes_entrenamiento (List): Lista de imagenes de tamano 32^2\n",
    "        w (Vector): Pesos de la red\n",
    "        b (Float): Bias de la red\n",
    "        alpha (Float): Learning rate\n",
    "\n",
    "    Returns:\n",
    "        Tuple: Pesos y bias actualizados\n",
    "\n",
    "    \"\"\"\n",
    "    w = w - alpha * L_w(i,w,b,d)\n",
    "    b = b - alpha * L_b(i,w,b,d)\n",
    "    return w,b\n",
    "\n"
   ]
  },
  {
   "cell_type": "markdown",
   "metadata": {},
   "source": [
    "# Ejercisio 3"
   ]
  },
  {
   "cell_type": "code",
   "execution_count": 81,
   "metadata": {},
   "outputs": [],
   "source": [
    "def train(datos, alpha=0.1, epochs = 5,seed = 42):\n",
    "    \"\"\"_summary_\n",
    "\n",
    "    Args:\n",
    "        datos (tuple): Tupla de dos listas, la primera con las imagenes Normales y la segunda con las imagenes con Neumonia \n",
    "        w (Vector): Pesos de la red\n",
    "        b (Float): Bias de la red\n",
    "        alpha (Float): Learning rate\n",
    "        epochs (Int): Numero de iteraciones\n",
    "\n",
    "    Returns:\n",
    "        Tuple: Pesos y bias actualizados\n",
    "    \"\"\"\n",
    "    # inicioamos con pesos aleatorios\n",
    "    # set numpy seed\n",
    "    \n",
    "\n",
    "    datos_sin_neumonia = datos[0]\n",
    "    datos_con_neumonia = datos[1]\n",
    "\n",
    "    np.random.seed(seed)\n",
    "    w = np.random.randn(datos_sin_neumonia[0].shape[0])\n",
    "    b = np.random.randn(1)\n",
    "    \n",
    "    \n",
    "    print(len(datos_sin_neumonia)+len(datos_con_neumonia),len(datos_sin_neumonia)/len(datos_con_neumonia))\n",
    "    \n",
    "    error = 0\n",
    "    errores = []\n",
    "    for _ in range(epochs):  \n",
    "        error = 0\n",
    "\n",
    "        label = 0\n",
    "        for i in datos_sin_neumonia: \n",
    "            w,b = desenso_gradiente(i,w,b,label,alpha)\n",
    "            error += (L(i,w,b) - label)**2 # Falta arreglar esto\n",
    "        label = 1\n",
    "        for i in datos_con_neumonia:\n",
    "            w,b = desenso_gradiente(i,w,b,label,alpha)\n",
    "            error += (L(i,w,b) - label)**2 # Falta arreglar esto\n",
    "\n",
    "        errores.append(error)\n",
    "        alpha = alpha * 0.95\n",
    "        # print overight in line\n",
    "        print(f\"\\r{error}\",end='',)\n",
    "    \n",
    "    plt.plot(errores)\n",
    "    plt.show()\n",
    "\n",
    "    return w,b"
   ]
  },
  {
   "cell_type": "code",
   "execution_count": 89,
   "metadata": {},
   "outputs": [],
   "source": [
    "def test(w,b,datos):\n",
    "    \"\"\"_summary_\n",
    "\n",
    "    Args:\n",
    "        w (Vector): Pesos de la red\n",
    "        b (Float): Bias de la red\n",
    "        datos (tuple): Tupla de dos listas, la primera con las imagenes Normales y la segunda con las imagenes con Neumonia \n",
    "\n",
    "    Returns:\n",
    "        Float: Accuracy\n",
    "    \"\"\"\n",
    "    datos_sin_neumonia = datos[0]\n",
    "    datos_con_neumonia = datos[1]\n",
    "    correctos = 0\n",
    "    for i in datos_sin_neumonia:\n",
    "        if L(i,w,b) < 0.5:\n",
    "            correctos += 1\n",
    "    for i in datos_con_neumonia:\n",
    "        if L(i,w,b) >= 0.5:\n",
    "            correctos += 1\n",
    "    return correctos/(len(datos_sin_neumonia)+len(datos_con_neumonia))"
   ]
  },
  {
   "cell_type": "code",
   "execution_count": 93,
   "metadata": {},
   "outputs": [
    {
     "name": "stdout",
     "output_type": "stream",
     "text": [
      "2698 1.0\n",
      "[319.15240853]]"
     ]
    },
    {
     "data": {
      "image/png": "[encoded data removed]",
      "text/plain": [
       "<Figure size 640x480 with 1 Axes>"
      ]
     },
     "metadata": {},
     "output_type": "display_data"
    },
    {
     "data": {
      "text/plain": [
       "0.6495726495726496"
      ]
     },
     "execution_count": 93,
     "metadata": {},
     "output_type": "execute_result"
    }
   ],
   "source": [
    "train_sin, train_con, test_sin, test_con = data\n",
    "\n",
    "w_res, b_res = train(\n",
    "    (train_sin, train_con),\n",
    "    alpha=0.005,\n",
    "    epochs = 100,\n",
    "    seed = 45\n",
    "    )\n",
    "test(w_res,b_res,(test_sin,test_con))"
   ]
  }
 ],
 "metadata": {
  "kernelspec": {
   "display_name": "base",
   "language": "python",
   "name": "python3"
  },
  "language_info": {
   "codemirror_mode": {
    "name": "ipython",
    "version": 3
   },
   "file_extension": ".py",
   "mimetype": "text/x-python",
   "name": "python",
   "nbconvert_exporter": "python",
   "pygments_lexer": "ipython3",
   "version": "3.11.5"
  },
  "vscode": {
   "interpreter": {
    "hash": "588a077454552c0b608c7a75f739e0012bc0a6317cbb2228f1831255df17ce82"
   }
  }
 },
 "nbformat": 4,
 "nbformat_minor": 2
}
