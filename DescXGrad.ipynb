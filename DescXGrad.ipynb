{
 "cells": [
  {
   "cell_type": "code",
   "execution_count": 1,
   "metadata": {},
   "outputs": [],
   "source": [
    "import numpy as np\n",
    "import matplotlib.pyplot as plt\n",
    "from PIL import Image\n",
    "import os"
   ]
  },
  {
   "cell_type": "code",
   "execution_count": 26,
   "metadata": {},
   "outputs": [],
   "source": [
    "def abrirImagenesEscaladas( carpeta, escala=32 ):\n",
    "    # abre todas las imagenes de la carpeta, y las escala de tal forma que midan (escala x escala)px\n",
    "    # devuelve las imagenes aplanadas -> vectores de tamano escala^2 con valores entre 0 y 1\n",
    "    imagenes = []\n",
    "\n",
    "    for dirpath, dirnames, filenames in os.walk(carpeta):\n",
    "        for file in filenames:\n",
    "            img = Image.open( os.path.join(carpeta, file) )\n",
    "            img = img.resize((escala, escala))\n",
    "            img.convert('1')\n",
    "            img = np.asarray(img)\n",
    "            if len(img.shape)==3:\n",
    "                img = img[:,:,0].reshape((escala**2 )) / 255\n",
    "            else:\n",
    "                img = img.reshape((escala**2 )) / 255\n",
    "            \n",
    "            imagenes.append( img )\n",
    "\n",
    "    return imagenes"
   ]
  },
  {
   "cell_type": "code",
   "execution_count": null,
   "metadata": {},
   "outputs": [],
   "source": [
    "# Data\n",
    "img_train_normal = abrirImagenesEscaladas('./chest_xray/train/NORMAL/')\n",
    "# img_train_neumonia = abrirImagenesEscaladas('./chest_xray/train/PNEUMONIA/') # NO FUNCIONA :(\n",
    "img_test_normal = abrirImagenesEscaladas('./chest_xray/test/NORMAL/')\n",
    "img_test_neumonia = abrirImagenesEscaladas('./chest_xray/test/PNEUMONIA/')\n",
    "\n",
    "data = (img_train_normal, img_train_normal, img_test_normal, img_test_neumonia)\n"
   ]
  },
  {
   "cell_type": "code",
   "execution_count": null,
   "metadata": {},
   "outputs": [],
   "source": [
    "def balancear_datos(imagenes_entrenamiento):\n",
    "\n",
    "    img_train_normal = imagenes_entrenamiento[0]\n",
    "    img_train_neumonia =imagenes_entrenamiento[1]\n",
    "    img_test_normal =imagenes_entrenamiento[2]\n",
    "    img_test_neumonia = imagenes_entrenamiento[3]\n",
    "\n",
    "    # MAX NUMBER OF IMAGES\n",
    "    n_train = min(len(img_train_normal), len(img_train_neumonia))\n",
    "    n_test = min(len(img_test_normal), len(img_test_neumonia))\n",
    "\n",
    "    # BALANCE\n",
    "    img_train_normal = img_train_normal[:n_train]\n",
    "    img_train_neumonia = img_train_neumonia[:n_train]\n",
    "    img_test_normal = img_test_normal[:n_test]\n",
    "    img_test_neumonia = img_test_neumonia[:n_test]\n",
    "\n",
    "\n",
    "    # ADD LABELS\n",
    "    img_train_normal = np.concatenate((img_train_normal, np.zeros((n_train,1))), axis=-1)\n",
    "    img_train_neumonia = np.concatenate((img_train_neumonia, np.ones((n_train,1))), axis=-1)\n",
    "    img_test_normal = np.concatenate((img_test_normal, np.zeros((n_test,1))), axis=-1)\n",
    "    img_test_neumonia = np.concatenate((img_test_neumonia, np.ones((n_test,1))), axis=-1)\n",
    "\n",
    "\n",
    "    # CONCATENATE\n",
    "    traing_data = np.concatenate((img_train_normal, img_train_neumonia), axis=0)\n",
    "    test_data = np.concatenate((img_test_normal, img_test_neumonia), axis=0)\n",
    "    \n",
    "    return traing_data, test_data"
   ]
  },
  {
   "cell_type": "code",
   "execution_count": null,
   "metadata": {},
   "outputs": [],
   "source": [
    "train, test = balancear_datos(data)"
   ]
  },
  {
   "cell_type": "markdown",
   "metadata": {},
   "source": [
    "# EJERCISIO 1"
   ]
  },
  {
   "cell_type": "code",
   "execution_count": null,
   "metadata": {},
   "outputs": [],
   "source": [
    "def L(i,w,b):\n",
    "    \"\"\"_summary_\n",
    "\n",
    "    Args:\n",
    "        i (Vector): imagen reshaped a un vector de tamano 32^2\n",
    "        w (Vector): Pesos de la red\n",
    "        b (Float): Bias de la red\n",
    "\n",
    "    Returns:\n",
    "        probabolidad: 0 < p < 1: Probabilidad de que la imagen sea un 1 (Tiene neumonia)\n",
    "    \"\"\"\n",
    "    tan = np.tanh(np.dot(w,i)+b)\n",
    "    return (tan + 1)/2"
   ]
  },
  {
   "cell_type": "code",
   "execution_count": null,
   "metadata": {},
   "outputs": [],
   "source": [
    "# Derivada de L con respecto a W\n",
    "def L_w(i,w,b):\n",
    "    \"\"\"_summary_\n",
    "\n",
    "    Args:\n",
    "        i (Vector): imagen reshaped a un vector de tamano 32^2\n",
    "        w (Vector): Pesos de la red\n",
    "        b (Float): Bias de la red\n",
    "\n",
    "    Returns:\n",
    "        Vector: Gradiente de la probabilidad con respecto a los pesos\n",
    "    \"\"\"\n",
    "    # (((b+i⊤⋅w)2+1)^(−1))/2⋅w\n",
    "    return (1/((b+np.dot(i,w))**2+1))/2 * w"
   ]
  },
  {
   "cell_type": "code",
   "execution_count": null,
   "metadata": {},
   "outputs": [],
   "source": [
    "# Derivada de L con respecto a b\n",
    "def L_b(i,w,b):\n",
    "    \"\"\"_summary_\n",
    "\n",
    "    Args:\n",
    "        i (Vector): imagen reshaped a un vector de tamano 32^2\n",
    "        w (Vector): Pesos de la red\n",
    "        b (Float): Bias de la red\n",
    "\n",
    "    Returns:\n",
    "        Float: Gradiente de la probabilidad con respecto al bias\n",
    "    \"\"\"\n",
    "    # (((b+i⊤⋅w)2+1)^(−1))/2\n",
    "    return (1/((b+np.dot(i,w))**2+1))/2"
   ]
  },
  {
   "cell_type": "markdown",
   "metadata": {},
   "source": [
    "# EJERCISIO 2"
   ]
  },
  {
   "cell_type": "code",
   "execution_count": null,
   "metadata": {},
   "outputs": [],
   "source": [
    "def desenso_gradiente(i, w, b, alpha=0.1):\n",
    "    \"\"\"_summary_\n",
    "\n",
    "    Args:\n",
    "        imagenes_entrenamiento (List): Lista de imagenes de tamano 32^2\n",
    "        w (Vector): Pesos de la red\n",
    "        b (Float): Bias de la red\n",
    "        alpha (Float): Learning rate\n",
    "\n",
    "    Returns:\n",
    "        Tuple: Pesos y bias actualizados\n",
    "\n",
    "    \"\"\"\n",
    "    w = w - alpha*L_w(i,w,b)\n",
    "    b = b - alpha*L_b(i,w,b)\n",
    "    return w,b\n",
    "\n"
   ]
  },
  {
   "cell_type": "markdown",
   "metadata": {},
   "source": [
    "# Ejercisio 3"
   ]
  },
  {
   "cell_type": "code",
   "execution_count": null,
   "metadata": {},
   "outputs": [],
   "source": [
    "def split_train_test(imagenes, porcentaje=0.8):\n",
    "    \"\"\"_summary_\n",
    "\n",
    "    Args:\n",
    "        imagenes (List): Lista de imagenes de tamano 32^2\n",
    "        porcentaje (Float): Porcentaje de imagenes que se usaran para entrenar\n",
    "\n",
    "    Returns:\n",
    "        Tuple: Listas de imagenes de entrenamiento y de test\n",
    "    \"\"\"\n",
    "    n = len(imagenes)\n",
    "    n_train = int(n*porcentaje)\n",
    "    n_test = n - n_train\n",
    "\n",
    "    imagenes_train = imagenes[:n_train]\n",
    "    imagenes_test = imagenes[n_train:]\n",
    "\n",
    "    return imagenes_train, imagenes_test"
   ]
  },
  {
   "cell_type": "code",
   "execution_count": null,
   "metadata": {},
   "outputs": [],
   "source": [
    "def train(imagenes, w, b, alpha=0.1, epochs=100):\n",
    "    \"\"\"_summary_\n",
    "\n",
    "    Args:\n",
    "        imagenes_entrenamiento (List): Lista de imagenes de tamano 32^2\n",
    "        w (Vector): Pesos de la red\n",
    "        b (Float): Bias de la red\n",
    "        alpha (Float): Learning rate\n",
    "        epochs (Int): Numero de iteraciones\n",
    "\n",
    "    Returns:\n",
    "        Tuple: Pesos y bias actualizados\n",
    "    \"\"\"\n",
    "    w = np.random.rand(32,1)\n",
    "    for _ in range(epochs):\n",
    "        error = 0\n",
    "        for i in imagenes:\n",
    "            w,b = desenso_gradiente(i,w,b,alpha)\n",
    "            error += (L(i,w,b)-1)**2 # Falta arreglar esto\n",
    "    return w,b"
   ]
  }
 ],
 "metadata": {
  "kernelspec": {
   "display_name": "base",
   "language": "python",
   "name": "python3"
  },
  "language_info": {
   "codemirror_mode": {
    "name": "ipython",
    "version": 3
   },
   "file_extension": ".py",
   "mimetype": "text/x-python",
   "name": "python",
   "nbconvert_exporter": "python",
   "pygments_lexer": "ipython3",
   "version": "3.11.5"
  },
  "vscode": {
   "interpreter": {
    "hash": "588a077454552c0b608c7a75f739e0012bc0a6317cbb2228f1831255df17ce82"
   }
  }
 },
 "nbformat": 4,
 "nbformat_minor": 2
}
